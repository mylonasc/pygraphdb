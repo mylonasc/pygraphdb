{
 "cells": [
  {
   "cell_type": "markdown",
   "metadata": {},
   "source": [
    "## A quick benchmark for reads/writes\n",
    "\n",
    "`LevelDB` at the moment is orders of magnitude faster than `LMDB`\n",
    "The reason is that the bach edge writes are not implemented yet for `LMDB`"
   ]
  },
  {
   "cell_type": "code",
   "execution_count": 1,
   "metadata": {},
   "outputs": [],
   "source": [
    "import os\n",
    "data_path_google_plus= '/mnt/6c99ccdb-4d5e-443d-b361-8b5137623ef6/data/gplus/'\n",
    "# 'featnames','edges', 'followers','circles'\n",
    "file_suff = ['featnames','edges','followers','circles']\n",
    "_d = {}\n",
    "for fs in file_suff:\n",
    "    _d_fs  = [os.path.join(data_path_google_plus, g) for g in os.listdir(data_path_google_plus) if fs in g]\n",
    "    _d[fs] = _d_fs\n"
   ]
  },
  {
   "cell_type": "code",
   "execution_count": 2,
   "metadata": {},
   "outputs": [],
   "source": [
    "import sys\n",
    "sys.path.append('/home/charilaos/Workspace/pygraphdb/src')\n",
    "import graphdb"
   ]
  },
  {
   "cell_type": "code",
   "execution_count": 3,
   "metadata": {},
   "outputs": [],
   "source": [
    "from kvstores import LevelDBStore, LMDBStore\n",
    "from graphdb import GraphDB, Node, Edge\n",
    "from serializers import PickleSerializer\n",
    "# _store = LMDBStore(path='/tmp/graph_lmdb_example_2', map_size=2**35)\n",
    "_store = LevelDBStore('/tmp/leveldb_benchmark_write')\n",
    "serializer = PickleSerializer()\n",
    "\n",
    "# 2. Create the GraphDB \n",
    "graph_db = GraphDB(_store, serializer)"
   ]
  },
  {
   "cell_type": "code",
   "execution_count": 5,
   "metadata": {},
   "outputs": [
    {
     "name": "stdout",
     "output_type": "stream",
     "text": [
      "338769 writes in 5.967495679855347sec (write rate: 56769.0398408821 w/s or 0.017615235395964053 ms/w)\n"
     ]
    }
   ],
   "source": [
    "# follower relation:\n",
    "from time import time\n",
    "t0 = time()\n",
    "num_writes = 0\n",
    "node_writes = 0\n",
    "edge_writes = 0\n",
    "\n",
    "for followers_edge_list in _d['followers']:\n",
    "    edge_list = []\n",
    "    with open(followers_edge_list,'r') as f:\n",
    "        _dd = f.read().split('\\n')\n",
    "        to_node = followers_edge_list.split('/')[-1].split('.followers')[0]\n",
    "        for from_node in _dd:\n",
    "            # edges.append((from_node, to_node))\n",
    "            n1, n2 = Node(node_id = from_node), Node(node_id = to_node)\n",
    "            e = Edge(source = n1.get_id, target = n2.get_id)\n",
    "            graph_db.put_node(n1)\n",
    "            graph_db.put_node(n2)\n",
    "            node_writes += 2\n",
    "            edge_list.append(e)\n",
    "            # graph_db.put_edge(e)\n",
    "            \n",
    "        a = graph_db.put_edges_bulk(edge_list)\n",
    "        edge_writes += len(edge_list)\n",
    "        num_writes = edge_writes + node_writes\n",
    "\n",
    "        if (num_writes % 1000) == 0:\n",
    "            \n",
    "            print(f'{num_writes} in {dt} (rate: {num_writes/dt})')\n",
    "dt = time() - t0\n",
    "print(f'{num_writes} writes in {dt}sec (write rate: {num_writes/dt} w/s or {dt/num_writes*1000} ms/w)')"
   ]
  }
 ],
 "metadata": {
  "kernelspec": {
   "display_name": "venv",
   "language": "python",
   "name": "python3"
  },
  "language_info": {
   "codemirror_mode": {
    "name": "ipython",
    "version": 3
   },
   "file_extension": ".py",
   "mimetype": "text/x-python",
   "name": "python",
   "nbconvert_exporter": "python",
   "pygments_lexer": "ipython3",
   "version": "3.10.12"
  }
 },
 "nbformat": 4,
 "nbformat_minor": 2
}
