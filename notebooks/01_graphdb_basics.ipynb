{
 "cells": [
  {
   "cell_type": "code",
   "execution_count": 3,
   "metadata": {},
   "outputs": [
    {
     "name": "stdout",
     "output_type": "stream",
     "text": [
      "Fetched Node A: {'id': '093cdbfe-873d-464c-85d4-661334d8c403', 'properties': {'name': 'Alice', 'age': 30}}\n",
      "Fetched Edge A->B: {'id': '1c29e921-5767-4569-91c6-c2fab6ab5810', 'source': '093cdbfe-873d-464c-85d4-661334d8c403', 'target': '2b173108-d462-4a72-8cce-4f4dc1603445', 'properties': {'relation': 'friend'}}\n"
     ]
    }
   ],
   "source": [
    "# 1. Choose a store and serializer\n",
    "import sys\n",
    "sys.path.append('../src')\n",
    "from kvstores import LMDBStore\n",
    "from graphdb import GraphDB, Node, Edge\n",
    "from serializers import PickleSerializer\n",
    "lmdb_store = LMDBStore(path='graph_lmdb_example')\n",
    "serializer = PickleSerializer()\n",
    "\n",
    "# 2. Create the GraphDB \n",
    "graph_db = GraphDB(lmdb_store, serializer)\n",
    "\n",
    "# 3. Create and put a Node\n",
    "node_a = Node(properties={'name': 'Alice', 'age': 30})\n",
    "graph_db.put_node(node_a)\n",
    "\n",
    "# 4. Create and put another Node\n",
    "node_b = Node(properties={'name': 'Bob', 'age': 25})\n",
    "graph_db.put_node(node_b)\n",
    "\n",
    "# 5. Create an Edge between them\n",
    "edge_ab = Edge(source=node_a.get_id, target=node_b.get_id, properties={'relation': 'friend'})\n",
    "graph_db.put_edge(edge_ab)\n",
    "\n",
    "# 6. Retrieve a node\n",
    "fetched_node_a = graph_db.get_node(node_a.get_id_bytes)\n",
    "print(\"Fetched Node A:\", fetched_node_a.to_dict())\n",
    "\n",
    "# 7. Retrieve an edge\n",
    "fetched_edge_ab = graph_db.get_edge(edge_ab.get_id_bytes)\n",
    "print(\"Fetched Edge A->B:\", fetched_edge_ab.to_dict())\n",
    "\n",
    "# 8. Cleanup\n",
    "graph_db.close()"
   ]
  }
 ],
 "metadata": {
  "kernelspec": {
   "display_name": "venv",
   "language": "python",
   "name": "python3"
  },
  "language_info": {
   "codemirror_mode": {
    "name": "ipython",
    "version": 3
   },
   "file_extension": ".py",
   "mimetype": "text/x-python",
   "name": "python",
   "nbconvert_exporter": "python",
   "pygments_lexer": "ipython3",
   "version": "3.10.12"
  }
 },
 "nbformat": 4,
 "nbformat_minor": 2
}
