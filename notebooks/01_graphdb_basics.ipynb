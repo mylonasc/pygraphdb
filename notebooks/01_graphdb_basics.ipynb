{
 "cells": [
  {
   "cell_type": "code",
   "execution_count": 1,
   "metadata": {},
   "outputs": [
    {
     "name": "stdout",
     "output_type": "stream",
     "text": [
      "Fetched Node A: {'id': '4dd56d81-401b-4434-855a-084958e2df37', 'properties': {'name': 'Alice', 'age': 30}}\n",
      "Fetched Edge A->B: {'id': 'c9bc429c-11f6-4a4e-bbd1-ba499d661d1a', 'source': '4dd56d81-401b-4434-855a-084958e2df37', 'target': 'be255e98-d4ad-4988-aac9-90032dc20da8', 'properties': {'relation': 'friend'}}\n"
     ]
    }
   ],
   "source": [
    "# 1. Choose a store and serializer\n",
    "import sys\n",
    "sys.path.append('../src')\n",
    "from kvstores import LMDBStore\n",
    "from graphdb import GraphDB, Node, Edge\n",
    "from serializers import PickleSerializer\n",
    "lmdb_store = LMDBStore(path='graph_lmdb_example')\n",
    "serializer = PickleSerializer()\n",
    "\n",
    "# 2. Create the GraphDB \n",
    "graph_db = GraphDB(lmdb_store, serializer)\n",
    "\n",
    "# 3. Create and put a Node\n",
    "node_a = Node(properties={'name': 'Alice', 'age': 30})\n",
    "graph_db.put_node(node_a)\n",
    "\n",
    "# 4. Create and put another Node\n",
    "node_b = Node(properties={'name': 'Bob', 'age': 25})\n",
    "graph_db.put_node(node_b)\n",
    "\n",
    "# 5. Create an Edge between them\n",
    "edge_ab = Edge(source=node_a.get_id, target=node_b.get_id, properties={'relation': 'friend'})\n",
    "graph_db.put_edge(edge_ab)\n",
    "\n",
    "# 6. Retrieve a node\n",
    "fetched_node_a = graph_db.get_node(node_a.get_id_bytes)\n",
    "print(\"Fetched Node A:\", fetched_node_a.to_dict())\n",
    "\n",
    "# 7. Retrieve an edge\n",
    "fetched_edge_ab = graph_db.get_edge(edge_ab.get_id_bytes)\n",
    "print(\"Fetched Edge A->B:\", fetched_edge_ab.to_dict())\n",
    "nn = graph_db.get_node(b'91d9ab13-b94e-43ad-a37c-36981fc5acc6')\n",
    "aa = graph_db.get_adjacency_list(b'91d9ab13-b94e-43ad-a37c-36981fc5acc6')\n",
    "# 8. Cleanup\n",
    "# graph_db.close()"
   ]
  },
  {
   "cell_type": "code",
   "execution_count": 2,
   "metadata": {},
   "outputs": [
    {
     "data": {
      "text/plain": [
       "{b'4dd56d81-401b-4434-855a-084958e2df37': b'\\x80\\x04\\x95Y\\x00\\x00\\x00\\x00\\x00\\x00\\x00}\\x94(\\x8c\\x02id\\x94\\x8c$4dd56d81-401b-4434-855a-084958e2df37\\x94\\x8c\\nproperties\\x94}\\x94(\\x8c\\x04name\\x94\\x8c\\x05Alice\\x94\\x8c\\x03age\\x94K\\x1euu.',\n",
       " b'be255e98-d4ad-4988-aac9-90032dc20da8': b'\\x80\\x04\\x95W\\x00\\x00\\x00\\x00\\x00\\x00\\x00}\\x94(\\x8c\\x02id\\x94\\x8c$be255e98-d4ad-4988-aac9-90032dc20da8\\x94\\x8c\\nproperties\\x94}\\x94(\\x8c\\x04name\\x94\\x8c\\x03Bob\\x94\\x8c\\x03age\\x94K\\x19uu.'}"
      ]
     },
     "execution_count": 2,
     "metadata": {},
     "output_type": "execute_result"
    }
   ],
   "source": [
    "graph_db.store.get_nodes_bulk([node_a.get_id_bytes, node_b.get_id_bytes])"
   ]
  },
  {
   "cell_type": "code",
   "execution_count": 3,
   "metadata": {},
   "outputs": [
    {
     "data": {
      "text/plain": [
       "[<graphdb.Node at 0x78b9ac366530>, <graphdb.Node at 0x78b9ac366830>]"
      ]
     },
     "execution_count": 3,
     "metadata": {},
     "output_type": "execute_result"
    }
   ],
   "source": [
    "graph_db.get_nodes([node_a.get_id_bytes, node_b.get_id_bytes])"
   ]
  }
 ],
 "metadata": {
  "kernelspec": {
   "display_name": "venv",
   "language": "python",
   "name": "python3"
  },
  "language_info": {
   "codemirror_mode": {
    "name": "ipython",
    "version": 3
   },
   "file_extension": ".py",
   "mimetype": "text/x-python",
   "name": "python",
   "nbconvert_exporter": "python",
   "pygments_lexer": "ipython3",
   "version": "3.10.12"
  }
 },
 "nbformat": 4,
 "nbformat_minor": 2
}
