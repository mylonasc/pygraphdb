{
 "cells": [
  {
   "cell_type": "code",
   "execution_count": 1,
   "metadata": {},
   "outputs": [],
   "source": [
    "# 1. Choose a store and serializer\n",
    "import sys\n",
    "sys.path.append('../src')\n",
    "from kvstores import LMDBStore\n",
    "from graphdb import GraphDB, Node, Edge\n",
    "from serializers import PickleSerializer\n"
   ]
  },
  {
   "cell_type": "code",
   "execution_count": 2,
   "metadata": {},
   "outputs": [
    {
     "name": "stdout",
     "output_type": "stream",
     "text": [
      "Fetched Node A: {'id': '69e28264-9b2a-453b-862c-5c4c157c551f', 'properties': {'name': 'Alice', 'age': 30}}\n",
      "Fetched Edge A->B: {'id': 'a24abe90-2629-4bbc-8b53-57cabaeb8ccc', 'source': '69e28264-9b2a-453b-862c-5c4c157c551f', 'target': '8832bf67-fda9-4b42-8628-aaa69fed760b', 'properties': {'relation': 'friend'}}\n"
     ]
    }
   ],
   "source": [
    "lmdb_store = LMDBStore(path='graph_lmdb_example')\n",
    "serializer = PickleSerializer()\n",
    "\n",
    "# 2. Create the GraphDB (no conditionals inside!)\n",
    "graph_db = GraphDB(lmdb_store, serializer)\n",
    "\n",
    "# 3. Create and put a Node\n",
    "node_a = Node(properties={'name': 'Alice', 'age': 30})\n",
    "graph_db.put_node(node_a)\n",
    "\n",
    "# 4. Create and put another Node\n",
    "node_b = Node(properties={'name': 'Bob', 'age': 25})\n",
    "graph_db.put_node(node_b)\n",
    "\n",
    "# 5. Create an Edge between them\n",
    "edge_ab = Edge(source=node_a.get_id, target=node_b.get_id, properties={'relation': 'friend'})\n",
    "graph_db.put_edge(edge_ab)\n",
    "\n",
    "# 6. Retrieve a node\n",
    "fetched_node_a = graph_db.get_node(node_a.get_id)\n",
    "print(\"Fetched Node A:\", fetched_node_a.to_dict())\n",
    "\n",
    "# 7. Retrieve an edge\n",
    "fetched_edge_ab = graph_db.get_edge(edge_ab.get_id)\n",
    "print(\"Fetched Edge A->B:\", fetched_edge_ab.to_dict())\n",
    "\n",
    "# 8. Cleanup\n",
    "graph_db.close()"
   ]
  },
  {
   "cell_type": "code",
   "execution_count": 24,
   "metadata": {},
   "outputs": [
    {
     "data": {
      "text/plain": [
       "b'\\x80\\x04\\x95\\x11\\x00\\x00\\x00\\x00\\x00\\x00\\x00}\\x94\\x8c\\x04test\\x94\\x8f\\x94(K\\x05\\x90s.'"
      ]
     },
     "execution_count": 24,
     "metadata": {},
     "output_type": "execute_result"
    }
   ],
   "source": [
    "d = {}\n",
    "d.setdefault('test',set()).add(5)\n",
    "d.setdefault('test',set()).add(5)\n",
    "import pickle\n",
    "pickle.dumps(d)"
   ]
  },
  {
   "cell_type": "code",
   "execution_count": 3,
   "metadata": {},
   "outputs": [],
   "source": [
    "lmdb_store = LMDBStore(path='graph_lmdb_example')\n",
    "serializer = PickleSerializer()\n",
    "gdb =  GraphDB(lmdb_store, serializer)\n"
   ]
  },
  {
   "cell_type": "code",
   "execution_count": 13,
   "metadata": {},
   "outputs": [],
   "source": [
    "v = gdb.store.get_adjacency(node_b.get_id)"
   ]
  },
  {
   "cell_type": "code",
   "execution_count": 14,
   "metadata": {},
   "outputs": [
    {
     "data": {
      "text/plain": [
       "{'target': ['a24abe90-2629-4bbc-8b53-57cabaeb8ccc']}"
      ]
     },
     "execution_count": 14,
     "metadata": {},
     "output_type": "execute_result"
    }
   ],
   "source": [
    "gdb.serializer.deserialize(v)"
   ]
  },
  {
   "cell_type": "code",
   "execution_count": null,
   "metadata": {},
   "outputs": [],
   "source": []
  }
 ],
 "metadata": {
  "kernelspec": {
   "display_name": "venv",
   "language": "python",
   "name": "python3"
  },
  "language_info": {
   "codemirror_mode": {
    "name": "ipython",
    "version": 3
   },
   "file_extension": ".py",
   "mimetype": "text/x-python",
   "name": "python",
   "nbconvert_exporter": "python",
   "pygments_lexer": "ipython3",
   "version": "3.12.3"
  }
 },
 "nbformat": 4,
 "nbformat_minor": 2
}
